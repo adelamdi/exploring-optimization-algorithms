{
  "nbformat": 4,
  "nbformat_minor": 0,
  "metadata": {
    "colab": {
      "provenance": []
    },
    "kernelspec": {
      "name": "python3",
      "display_name": "Python 3"
    },
    "language_info": {
      "name": "python"
    }
  },
  "cells": [
    {
      "cell_type": "markdown",
      "source": [
        "# Introduction to Schubert-Piyavskii method\n",
        "## April, 2024\n",
        "## A hands-on notebook by Fariman.AA and Kiani.M\n"
      ],
      "metadata": {
        "id": "2c69obPsaUFh"
      }
    },
    {
      "cell_type": "markdown",
      "source": [
        "This notebook centers on introducing the Schubert-Piyavskii method and demonstrating its application through a basic Python example. We begin by establishing a foundational understanding of the Schubert-Piyavskii method itself."
      ],
      "metadata": {
        "id": "C5WPMMwllaq4"
      }
    },
    {
      "cell_type": "markdown",
      "source": [
        "### Introduction, Whats Schubert-Piyavskii method?\n",
        "The Schubert-Piyavskii method is an iterative algorithm for global optimization problems defined over a closed interval  $ [a, b] $.  It is designed to locate the global minimum of a function, guaranteed to converge to this minimum regardless of the presence of local minima.\n",
        "\n",
        "Schubert-Piyavskii algorithm can be summarized in 4 steps:\n",
        "\n",
        "1. Initialization\n",
        "2. Sawtooth Lower Bound Construction\n",
        "3. Iterative Refinement\n",
        "4. Convergence Criterion\n",
        "\n",
        "These steps iterate until the algorithm converges to a solution or reaches the maximum number of iterations.\n"
      ],
      "metadata": {
        "id": "x0nszQftYpQR"
      }
    },
    {
      "cell_type": "markdown",
      "source": [
        "### Advantages of Schubert-Piyavskii\n",
        "Having established the fundamental principles of the Schubert-Piyavskii method, let us now investigate its key advantages.\n",
        "\n",
        "* Derivative-Free: Unlike gradient-based methods, it does not need the objective function's derivatives. This is particularly usefull when the derivatives are difficult to compute.\n",
        "\n",
        "* Handles Non-Smooth Functions: The method is adept at handling non-smooth functions, which pose significant challenges for traditional gradient-based methods.\n",
        "\n",
        "* No Initial Information Required: gradient-based methods require initial information about the gradient, but this method can be initialized without any knowledge of the gradient direction."
      ],
      "metadata": {
        "id": "KXER5ADAemTa"
      }
    },
    {
      "cell_type": "markdown",
      "source": [
        "### Lipschitz continuity\n",
        "The applicability of the Schubert-Piyavskii method hinges on the objective function being Lipschitz continuous. In simpler terms, this implies that the function must be continuous throughout its domain, and its rate of change must be bounded across that domain.\n",
        "\n",
        "In mathematical terms, a function is considered Lipschitz continuous if it satisfies the following property:\n",
        "\n",
        "$\n",
        "\\text{Function } f \\text{ is Lipschitz continuous on } [a,b] \\text{ if there exists an } L \\text{ such that:} \\\\\n",
        "∀ x,y ∈ [a,b], |f(x)-f(y)| ≤ L|x-y|\n",
        "$\n",
        "\n",
        "L denotes the Lipschitz constant, which quantifies the maximum allowable rate of change of a function over a specified interval.\n",
        "\n",
        "$\n",
        "\\frac{|f(x) - f(y)|}{|x-y|} \\le \\frac{L|x-y|}{|x-y|} → \\frac{df}{dx} \\le L\n",
        "$\n",
        "\n",
        "$ L $ is greater than or equal to max rate of change of $ f(x) $ in given interval.\n",
        "\n",
        "A Python function can be devised to ascertain the Lipschitz continuity of a given function over a specified interval with Lipschitz constant $L$. The application of this function necessitates the determination of the Lipschitz constant, a value we will explore methods for calculating later.\n"
      ],
      "metadata": {
        "id": "_YZAeQ-qhviQ"
      }
    },
    {
      "cell_type": "code",
      "source": [
        "import numpy as np\n",
        "# Function,Domain,Lipschitz constant, Int numbers count in given interval\n",
        "def findLipschitz(f, domain, initialGuess, znum):\n",
        "  # Compute the maximum difference between f(x) and f(y) for all pairs of points x, y in the domain\n",
        "  xValues = np.linspace(domain[0], domain[1], znum)\n",
        "  max_diff = np.max(np.abs(f(xValues) - f(xValues[:, np.newaxis])))\n",
        "\n",
        "  # Check if the maximum difference is less than or equal to L times the distance between any two points in the domain\n",
        "  delta = domain[1] - domain[0]\n",
        "  while(1==1):\n",
        "    if max_diff <= initialGuess * delta:\n",
        "      return initialGuess\n",
        "    else:\n",
        "      initialGuess = initialGuess * 2\n"
      ],
      "metadata": {
        "id": "gRyTQqGQMRi3"
      },
      "execution_count": 1,
      "outputs": []
    },
    {
      "cell_type": "markdown",
      "source": [
        "Furthermore, the Lipschitz constant of a function can be approximated numerically using a straightforward Python implementation, as illustrated below:"
      ],
      "metadata": {
        "id": "Jpgtab7IObYM"
      }
    },
    {
      "cell_type": "markdown",
      "source": [
        "### Schubert-Piavskii method\n",
        "The algorithm can be implemented in Python. It requires the following inputs:\n",
        "* A function to be minimized (f).\n",
        "* The domain of the function as a closed interval (a, b).\n",
        "* The Lipschitz constant of function in given interval.\n",
        "* A tolerance value (e) that specifies the desired level of accuracy in the solution.\n",
        "* A maximum number of iterations (N) to prevent the algorithm from running indefinitely.\n",
        "\n",
        "The Schubert-Piyavskii algorithm is an iterative method designed to locate the minimum value of a function within a specified interval. This algorithm is particularly well-suited for functions exhibiting Lipschitz continuity.\n",
        "\n",
        "Key Steps:\n",
        "\n",
        "* Initialization: The algorithm begins by evaluating the function at the midpoint $m$ of the given interval $(a, b)$.\n",
        "* Sawtooth Lower Bound Construction: Utilizing the Lipschitz constant $ L $, the algorithm constructs a sawtooth-shaped lower bound for the function within the interval. This lower bound is formed by lines with slopes of $±L$ emanating from the points evaluated at the interval endpoints $(a, f(a))$ and $(b, f(b))$ and intersecting with the perpendicular bisector of the line segment connecting the midpoint and either endpoint.\n",
        "* Iterative Refinement: The algorithm iteratively refines this sawtooth lower bound. In each iteration, it identifies the point on the current lower bound with the minimum function value. It then constructs a new sawtooth lower bound using the identified point and its two neighboring points on the previous lower bound.\n",
        "\n",
        "* Convergence Criterion: The iterative process continues until a convergence criterion is met. This criterion typically involves a tolerance level $e$. The algorithm terminates when the difference between the function value at the current minimum point on the sawtooth lower bound and the actual function value falls below the specified tolerance.\n",
        "\n",
        "In essence, the Schubert-Piyavskii algorithm progressively tightens the lower bound on the function value within the interval, leveraging the Lipschitz continuity property to ensure the true minimum cannot lie below this bound. By iteratively refining the lower bound, the algorithm efficiently converges towards the minimum value of the function.\n",
        "\n",
        "\n",
        "\n"
      ],
      "metadata": {
        "id": "LhAXkIxWWjx7"
      }
    },
    {
      "cell_type": "code",
      "source": [
        "class Pt:\n",
        "  def __init__(self,x,y):\n",
        "    self.x = x\n",
        "    self.y = y\n",
        "\n",
        "def getIntersection(A,B,l):\n",
        "  t=((A.y-B.y) - l * (A.x - B.x)) / (2*l)\n",
        "  return Pt(A.x+t,A.y-t*l)\n",
        "\n",
        "def shubert_piyavskii(f,a,b,l,e,N):\n",
        "  n = 0\n",
        "  m = (a+b)/2\n",
        "  A = Pt(a,f(a))\n",
        "  M = Pt(m,f(m))\n",
        "  B= Pt(b,f(b))\n",
        "  pts = [A,getIntersection(A,M,l),getIntersection(M,B,l),B]\n",
        "  D = float('inf')\n",
        "  while(D>e):\n",
        "    n+=1\n",
        "    if n>N:\n",
        "      break\n",
        "    i = min(range(len(pts)),key=lambda x: pts[x].y)\n",
        "    P = Pt(pts[i].x, f(pts[i].x))\n",
        "    D = P.y - pts[i].y\n",
        "    P_prev = getIntersection(pts[i-1], P, l)\n",
        "    P_next = getIntersection(P, pts[i+1], l)\n",
        "    del(pts[i])\n",
        "    pts.insert(i, P_next)\n",
        "    pts.insert(i, P)\n",
        "    pts.insert(i, P_prev)\n",
        "  return pts"
      ],
      "metadata": {
        "id": "NB-oguprmfj-"
      },
      "execution_count": 2,
      "outputs": []
    },
    {
      "cell_type": "markdown",
      "source": [
        "### Reviewing a simple example\n",
        "Having established the fundamental principles of the Schubert-Piyavskii algorithm, let's now illustrate its application with an example. Consider a function f(x) that we aim to minimize within the interval $ [-10, 10] $.\n",
        "\n",
        "$\n",
        "f(x) = sin(x)\n",
        "$\n",
        "\n"
      ],
      "metadata": {
        "id": "Se-bspaFbAKc"
      }
    },
    {
      "cell_type": "code",
      "source": [
        "def f(x):\n",
        "  return (np.sin(x))"
      ],
      "metadata": {
        "id": "szRY8oBCg6aF"
      },
      "execution_count": 3,
      "outputs": []
    },
    {
      "cell_type": "code",
      "source": [
        "import matplotlib.pyplot as plt\n",
        "# create a range of values for x\n",
        "x = np.linspace(-10, 10, 100)\n",
        "\n",
        "# evaluate the function at each x value\n",
        "y = f(x)\n",
        "\n",
        "# plot the function\n",
        "plt.plot(x, y, label='f(x)',color='red')\n",
        "# add labels and legend\n",
        "plt.axhline(y=0, color='black', linestyle='--')\n",
        "plt.xlabel('x')\n",
        "plt.ylabel('f(x)')\n",
        "plt.legend()\n",
        "# show the plot\n",
        "plt.show()"
      ],
      "metadata": {
        "colab": {
          "base_uri": "https://localhost:8080/",
          "height": 449
        },
        "id": "z87VQEFKgx0h",
        "outputId": "001d93de-e905-4d73-e881-de172affe042"
      },
      "execution_count": 4,
      "outputs": [
        {
          "output_type": "display_data",
          "data": {
            "text/plain": [
              "<Figure size 640x480 with 1 Axes>"
            ],
            "image/png": "[encoded data removed]"
          },
          "metadata": {}
        }
      ]
    },
    {
      "cell_type": "markdown",
      "source": [
        "To ensure the applicability of the Schubert-Piyavskii algorithm, we must first verify that the function f(x) is Lipschitz continuous within the specified interval $ [-10, 10] $. Traditionally, Lipschitz continuity is established by finding a Lipschitz constant L, which represents the maximum allowable rate of change of the function across the interval. One common approach to determine the Lipschitz constant involves calculating the derivative of the function $ f'(x) $and finding its maximum absolute value within the interval. However, it's important to acknowledge that this method is not universally applicable. In some cases, the function might not be differentiable everywhere within the interval, or the derivative might not be bounded.\n",
        "\n",
        "Since the derivative of the function $f(x)$ is known to be simply $cos(x)$, we can proceed to determine the Lipschitz constant within the specified interval $[-10, 10]$. The Lipschitz constant represents the maximum allowable rate of change of the function across the interval."
      ],
      "metadata": {
        "id": "RA9zCkAlgxMQ"
      }
    },
    {
      "cell_type": "code",
      "source": [
        "x = np.linspace(-10,10,100)\n",
        "y = np.cos(x)\n",
        "L = np.max(np.abs(y))\n",
        "\n",
        "print('Lipschitz constant is: '+ str(L))"
      ],
      "metadata": {
        "colab": {
          "base_uri": "https://localhost:8080/"
        },
        "id": "_5pa2kYhi3TU",
        "outputId": "70257fa5-65f6-459f-aee2-2d58e8018db9"
      },
      "execution_count": 5,
      "outputs": [
        {
          "output_type": "stream",
          "name": "stdout",
          "text": [
            "Lipschitz constant is: 0.9999471661761239\n"
          ]
        }
      ]
    },
    {
      "cell_type": "markdown",
      "source": [
        "We can also call findLipschitz() function to calculate a valid Lipschitz constant."
      ],
      "metadata": {
        "id": "dYLIL0DfW60h"
      }
    },
    {
      "cell_type": "code",
      "source": [
        "interval = (-10,10)\n",
        "a,b = interval\n",
        "\n",
        "znum=0\n",
        "for i in range(a,b+1):\n",
        "  znum += 1\n",
        "\n",
        "domain = np.linspace(a, b, znum)\n",
        "\n",
        "findLipschitz(f,domain,0.1,znum)"
      ],
      "metadata": {
        "colab": {
          "base_uri": "https://localhost:8080/"
        },
        "id": "1KioHrIekGZx",
        "outputId": "eab5c2b9-9f7b-43ad-c796-0c8867d8c7c5"
      },
      "execution_count": 6,
      "outputs": [
        {
          "output_type": "execute_result",
          "data": {
            "text/plain": [
              "1.6"
            ]
          },
          "metadata": {},
          "execution_count": 6
        }
      ]
    },
    {
      "cell_type": "markdown",
      "source": [
        "Having established that the function $f(x)$ is Lipschitz continuous within the interval $[-10, 10]$ (with a Lipschitz constant of $L = 0.9999471661761239$), the application of the Schubert-Piyavskii algorithm becomes appropriate."
      ],
      "metadata": {
        "id": "nzf4O-y7kxbd"
      }
    },
    {
      "cell_type": "code",
      "source": [
        "test = shubert_piyavskii(f,-10,10,L,.0001,1000)\n",
        "minY = test[0].y\n",
        "minX = test[0].x\n",
        "for t in test:\n",
        "  ## print('X= '+str(t.x)+' Y= '+str(t.y))\n",
        "  if t.y < minY:\n",
        "    minY = t.y\n",
        "    minX = t.x\n",
        "print('Minimum Data: '+'X:'+str(minX)+' MinY:'+str(np.sin(minX)))"
      ],
      "metadata": {
        "colab": {
          "base_uri": "https://localhost:8080/"
        },
        "id": "suPVaW2e49ff",
        "outputId": "282b2cad-19a1-40c0-c8b4-78a7ea4e6f3f"
      },
      "execution_count": 7,
      "outputs": [
        {
          "output_type": "stream",
          "name": "stdout",
          "text": [
            "Minimum Data: X:-7.853914933639628 MinY:-0.9999999977755326\n"
          ]
        }
      ]
    },
    {
      "cell_type": "markdown",
      "source": [
        "Following the analysis, we applied the Schubert-Piyavskii algorithm to the function $f(x) = sin(x)$.\n",
        "\n",
        "\n",
        "Good luck!"
      ],
      "metadata": {
        "id": "NVK9Nlr1NyJu"
      }
    }
  ]
}